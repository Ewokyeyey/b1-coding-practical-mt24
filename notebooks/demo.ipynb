{
 "cells": [
  {
   "cell_type": "code",
   "execution_count": 2,
   "metadata": {},
   "outputs": [
    {
     "name": "stdout",
     "output_type": "stream",
     "text": [
      "The autoreload extension is already loaded. To reload it, use:\n",
      "  %reload_ext autoreload\n"
     ]
    }
   ],
   "source": [
    "# Add relevant Jupyter notebook extensions \n",
    "%load_ext autoreload\n",
    "%autoreload 2"
   ]
  },
  {
   "cell_type": "code",
   "execution_count": 2,
   "metadata": {},
   "outputs": [
    {
     "name": "stdout",
     "output_type": "stream",
     "text": [
      "['/Users/elianakwok/anaconda3/lib/python311.zip', '/Users/elianakwok/anaconda3/lib/python3.11', '/Users/elianakwok/anaconda3/lib/python3.11/lib-dynload', '', '/Users/elianakwok/.venvs/b1-scientific-coding/lib/python3.11/site-packages']\n"
     ]
    }
   ],
   "source": [
    "# You can double-check your Python path like this...\n",
    "import sys  \n",
    "print(sys.path)"
   ]
  },
  {
   "cell_type": "markdown",
   "metadata": {},
   "source": [
    "# Simulate closed-loop\n",
    "After implementing your control functionality, you can simulate the closed-loop with code that looks something like this..."
   ]
  },
  {
   "cell_type": "code",
   "execution_count": 3,
   "metadata": {},
   "outputs": [
    {
     "name": "stdout",
     "output_type": "stream",
     "text": [
      "['/Users/elianakwok/anaconda3/lib/python311.zip', '/Users/elianakwok/anaconda3/lib/python3.11', '/Users/elianakwok/anaconda3/lib/python3.11/lib-dynload', '', '/Users/elianakwok/.venvs/b1-scientific-coding/lib/python3.11/site-packages', '/Users/elianakwok/Documents/Oxford/Course/Year 3/B1/Scientific Coding/b1-coding-practical-mt24/uuv_mission']\n"
     ]
    },
    {
     "ename": "IndexError",
     "evalue": "index 1 is out of bounds for axis 0 with size 0",
     "output_type": "error",
     "traceback": [
      "\u001b[0;31m---------------------------------------------------------------------------\u001b[0m",
      "\u001b[0;31mIndexError\u001b[0m                                Traceback (most recent call last)",
      "Cell \u001b[0;32mIn[3], line 15\u001b[0m\n\u001b[1;32m     12\u001b[0m closed_loop \u001b[38;5;241m=\u001b[39m dynamic\u001b[38;5;241m.\u001b[39mClosedLoop(sub, pd_controller)\n\u001b[1;32m     13\u001b[0m mission \u001b[38;5;241m=\u001b[39m dynamic\u001b[38;5;241m.\u001b[39mMission\u001b[38;5;241m.\u001b[39mfrom_csv(\u001b[38;5;124m'\u001b[39m\u001b[38;5;124m../data/mission.csv\u001b[39m\u001b[38;5;124m'\u001b[39m) \u001b[38;5;66;03m# You must implement this method in the Mission class\u001b[39;00m\n\u001b[0;32m---> 15\u001b[0m trajectory \u001b[38;5;241m=\u001b[39m \u001b[43mclosed_loop\u001b[49m\u001b[38;5;241;43m.\u001b[39;49m\u001b[43msimulate_with_random_disturbances\u001b[49m\u001b[43m(\u001b[49m\u001b[43mmission\u001b[49m\u001b[43m)\u001b[49m\n\u001b[1;32m     16\u001b[0m trajectory\u001b[38;5;241m.\u001b[39mplot_completed_mission(mission)\n",
      "File \u001b[0;32m~/Documents/Oxford/Course/Year 3/B1/Scientific Coding/b1-coding-practical-mt24/uuv_mission/dynamic.py:125\u001b[0m, in \u001b[0;36mClosedLoop.simulate_with_random_disturbances\u001b[0;34m(self, mission, variance)\u001b[0m\n\u001b[1;32m    123\u001b[0m \u001b[38;5;28;01mdef\u001b[39;00m \u001b[38;5;21msimulate_with_random_disturbances\u001b[39m(\u001b[38;5;28mself\u001b[39m, mission: Mission, variance: \u001b[38;5;28mfloat\u001b[39m \u001b[38;5;241m=\u001b[39m \u001b[38;5;241m0.5\u001b[39m) \u001b[38;5;241m-\u001b[39m\u001b[38;5;241m>\u001b[39m Trajectory:\n\u001b[1;32m    124\u001b[0m     disturbances \u001b[38;5;241m=\u001b[39m np\u001b[38;5;241m.\u001b[39mrandom\u001b[38;5;241m.\u001b[39mnormal(\u001b[38;5;241m0\u001b[39m, variance, \u001b[38;5;28mlen\u001b[39m(mission\u001b[38;5;241m.\u001b[39mreference))\n\u001b[0;32m--> 125\u001b[0m     \u001b[38;5;28;01mreturn\u001b[39;00m \u001b[38;5;28;43mself\u001b[39;49m\u001b[38;5;241;43m.\u001b[39;49m\u001b[43msimulate\u001b[49m\u001b[43m(\u001b[49m\u001b[43mmission\u001b[49m\u001b[43m,\u001b[49m\u001b[43m \u001b[49m\u001b[43mdisturbances\u001b[49m\u001b[43m)\u001b[49m\n",
      "File \u001b[0;32m~/Documents/Oxford/Course/Year 3/B1/Scientific Coding/b1-coding-practical-mt24/uuv_mission/dynamic.py:117\u001b[0m, in \u001b[0;36mClosedLoop.simulate\u001b[0;34m(self, mission, disturbances)\u001b[0m\n\u001b[1;32m    115\u001b[0m     \u001b[38;5;66;03m# Call your controller here\u001b[39;00m\n\u001b[1;32m    116\u001b[0m     references \u001b[38;5;241m=\u001b[39m mission\u001b[38;5;241m.\u001b[39mreference[t\u001b[38;5;241m-\u001b[39m\u001b[38;5;241m1\u001b[39m:t\u001b[38;5;241m+\u001b[39m\u001b[38;5;241m1\u001b[39m]\n\u001b[0;32m--> 117\u001b[0m     actions[t] \u001b[38;5;241m=\u001b[39m \u001b[43mcontroller\u001b[49m\u001b[38;5;241;43m.\u001b[39;49m\u001b[43mpd_controller\u001b[49m\u001b[43m(\u001b[49m\u001b[43mreferences\u001b[49m\u001b[43m,\u001b[49m\u001b[43m \u001b[49m\u001b[43mpositions\u001b[49m\u001b[43m[\u001b[49m\u001b[43mt\u001b[49m\u001b[38;5;241;43m-\u001b[39;49m\u001b[38;5;241;43m1\u001b[39;49m\u001b[43m:\u001b[49m\u001b[43mt\u001b[49m\u001b[38;5;241;43m+\u001b[39;49m\u001b[38;5;241;43m1\u001b[39;49m\u001b[43m]\u001b[49m\u001b[43m)\u001b[49m\n\u001b[1;32m    119\u001b[0m     \u001b[38;5;28mself\u001b[39m\u001b[38;5;241m.\u001b[39mplant\u001b[38;5;241m.\u001b[39mtransition(actions[t], disturbances[t])\n\u001b[1;32m    121\u001b[0m \u001b[38;5;28;01mreturn\u001b[39;00m Trajectory(positions)\n",
      "File \u001b[0;32m~/Documents/Oxford/Course/Year 3/B1/Scientific Coding/b1-coding-practical-mt24/uuv_mission/controller.py:5\u001b[0m, in \u001b[0;36mpd_controller\u001b[0;34m(references, depths)\u001b[0m\n\u001b[1;32m      3\u001b[0m kp \u001b[38;5;241m=\u001b[39m \u001b[38;5;241m0.15\u001b[39m\n\u001b[1;32m      4\u001b[0m kd \u001b[38;5;241m=\u001b[39m \u001b[38;5;241m0.6\u001b[39m\n\u001b[0;32m----> 5\u001b[0m error_1 \u001b[38;5;241m=\u001b[39m \u001b[43mreferences\u001b[49m\u001b[43m[\u001b[49m\u001b[38;5;241;43m1\u001b[39;49m\u001b[43m]\u001b[49m \u001b[38;5;241m-\u001b[39m depths[\u001b[38;5;241m1\u001b[39m, \u001b[38;5;241m0\u001b[39m] \u001b[38;5;66;03m# error at time t\u001b[39;00m\n\u001b[1;32m      6\u001b[0m error_0 \u001b[38;5;241m=\u001b[39m references[\u001b[38;5;241m0\u001b[39m] \u001b[38;5;241m-\u001b[39m depths[\u001b[38;5;241m0\u001b[39m, \u001b[38;5;241m0\u001b[39m] \u001b[38;5;66;03m# error at time t-1\u001b[39;00m\n\u001b[1;32m      7\u001b[0m control_action \u001b[38;5;241m=\u001b[39m kp \u001b[38;5;241m*\u001b[39m error_0 \u001b[38;5;241m+\u001b[39m kd \u001b[38;5;241m*\u001b[39m (error_0 \u001b[38;5;241m-\u001b[39m error_1)\n",
      "\u001b[0;31mIndexError\u001b[0m: index 1 is out of bounds for axis 0 with size 0"
     ]
    }
   ],
   "source": [
    "import sys\n",
    "import os\n",
    "\n",
    "sys.path.append(os.path.abspath('../uuv_mission'))\n",
    "print(sys.path)\n",
    "\n",
    "import dynamic\n",
    "from controller import pd_controller\n",
    "\n",
    "sub = dynamic.Submarine()\n",
    "# Instantiate your controller (depending on your implementation)\n",
    "closed_loop = dynamic.ClosedLoop(sub, pd_controller)\n",
    "mission = dynamic.Mission.from_csv('../data/mission.csv') # You must implement this method in the Mission class\n",
    "\n",
    "trajectory = closed_loop.simulate_with_random_disturbances(mission)\n",
    "trajectory.plot_completed_mission(mission)"
   ]
  },
  {
   "cell_type": "code",
   "execution_count": 55,
   "metadata": {},
   "outputs": [],
   "source": [
    "def pd_controller(references, depths):\n",
    "\n",
    "    kp = 0.15\n",
    "    kd = 0.6\n",
    "    error_1 = references[1] - depths[1, 0] # error at time t\n",
    "    error_0 = references[0] - depths[0, 0] # error at time t-1\n",
    "    control_action = kp * error_0 + kd * (error_0 - error_1)\n",
    "\n",
    "    return control_action"
   ]
  },
  {
   "cell_type": "code",
   "execution_count": 54,
   "metadata": {},
   "outputs": [
    {
     "name": "stdout",
     "output_type": "stream",
     "text": [
      "(0, 10)\n",
      "(1, 11)\n",
      "(2, 12)\n",
      "(3, 13)\n",
      "(4, 14)\n",
      "(5, 15)\n",
      "(6, 16)\n",
      "(7, 17)\n",
      "(8, 18)\n",
      "(9, 19)\n",
      "[[ 1. 11.]\n",
      " [ 2. 12.]\n",
      " [ 3. 13.]\n",
      " [ 4. 14.]]\n"
     ]
    }
   ],
   "source": [
    "import numpy as np\n",
    "\n",
    "positions = np.zeros((10, 2))\n",
    "i = 0\n",
    "for pos in positions:\n",
    "    pos = (i, i+10)\n",
    "    positions[i] = pos\n",
    "    print(pos)\n",
    "    i = i+1\n",
    "print(positions[1:5])"
   ]
  }
 ],
 "metadata": {
  "kernelspec": {
   "display_name": "b1-scientific-coding",
   "language": "python",
   "name": "python3"
  },
  "language_info": {
   "codemirror_mode": {
    "name": "ipython",
    "version": 3
   },
   "file_extension": ".py",
   "mimetype": "text/x-python",
   "name": "python",
   "nbconvert_exporter": "python",
   "pygments_lexer": "ipython3",
   "version": "3.11.5"
  }
 },
 "nbformat": 4,
 "nbformat_minor": 2
}
